{
  "nbformat": 4,
  "nbformat_minor": 0,
  "metadata": {
    "colab": {
      "name": "Set 2 - Q 2",
      "provenance": [],
      "authorship_tag": "ABX9TyOmho7VYSqMo39+Fbd6BG1e",
      "include_colab_link": true
    },
    "kernelspec": {
      "name": "python3",
      "display_name": "Python 3"
    },
    "language_info": {
      "name": "python"
    }
  },
  "cells": [
    {
      "cell_type": "markdown",
      "metadata": {
        "id": "view-in-github",
        "colab_type": "text"
      },
      "source": [
        "<a href=\"https://colab.research.google.com/github/bismahashim/Assignment-2/blob/main/Set_2_Q_2.ipynb\" target=\"_parent\"><img src=\"https://colab.research.google.com/assets/colab-badge.svg\" alt=\"Open In Colab\"/></a>"
      ]
    },
    {
      "cell_type": "code",
      "execution_count": 1,
      "metadata": {
        "id": "nMeMoA-Lnks-"
      },
      "outputs": [],
      "source": [
        "import pandas as pd\n",
        "import numpy as np\n",
        "import matplotlib.pyplot as plt\n",
        "import seaborn as sns\n",
        "from scipy import stats\n",
        "from scipy.stats import norm"
      ]
    },
    {
      "cell_type": "markdown",
      "source": [
        "# A. More employees at the processing center are older than 44 than between 38 and 44."
      ],
      "metadata": {
        "id": "M2LoJlDlqife"
      }
    },
    {
      "cell_type": "code",
      "source": [
        "#A.\tMore employees at the processing center are older than 44 \n",
        "1-stats.norm.cdf(44,loc=38,scale=6)"
      ],
      "metadata": {
        "colab": {
          "base_uri": "https://localhost:8080/"
        },
        "id": "PBo_IYhXqiJx",
        "outputId": "fb8e3db6-4c83-4655-af6b-4332da1d192f"
      },
      "execution_count": 5,
      "outputs": [
        {
          "output_type": "execute_result",
          "data": {
            "text/plain": [
              "0.15865525393145707"
            ]
          },
          "metadata": {},
          "execution_count": 5
        }
      ]
    },
    {
      "cell_type": "code",
      "source": [
        "# than between 38 and 44.\n",
        "stats.norm.cdf(44,loc=38,scale=6 ) - stats.norm.cdf(38,loc=38,scale=6 )"
      ],
      "metadata": {
        "colab": {
          "base_uri": "https://localhost:8080/"
        },
        "id": "c-Lb63k-oGWN",
        "outputId": "6dd940da-eaf7-4cbb-e4df-221da90e8db8"
      },
      "execution_count": 7,
      "outputs": [
        {
          "output_type": "execute_result",
          "data": {
            "text/plain": [
              "0.3413447460685429"
            ]
          },
          "metadata": {},
          "execution_count": 7
        }
      ]
    },
    {
      "cell_type": "markdown",
      "source": [
        "Hence as per above calculation the first statement is false "
      ],
      "metadata": {
        "id": "Az_3gr2Cq7Ge"
      }
    },
    {
      "cell_type": "code",
      "source": [
        "# B. A training program for employees under the age of 30 at the center would be expected to attract about 36 employees."
      ],
      "metadata": {
        "id": "Cwy5tYa1q1MP"
      },
      "execution_count": 8,
      "outputs": []
    },
    {
      "cell_type": "code",
      "source": [
        "# Employees under 30 yrs of age\n",
        "stats.norm.cdf(30,38,6)"
      ],
      "metadata": {
        "colab": {
          "base_uri": "https://localhost:8080/"
        },
        "id": "klQgw7pWsAlc",
        "outputId": "851899dd-5d53-4a83-e0d1-cffd12b5e7ee"
      },
      "execution_count": 9,
      "outputs": [
        {
          "output_type": "execute_result",
          "data": {
            "text/plain": [
              "0.09121121972586788"
            ]
          },
          "metadata": {},
          "execution_count": 9
        }
      ]
    },
    {
      "cell_type": "code",
      "source": [
        "# No. of employees attending training program from 400 nos. is N*P(X<30)\n",
        "400*stats.norm.cdf(30,38,6)"
      ],
      "metadata": {
        "colab": {
          "base_uri": "https://localhost:8080/"
        },
        "id": "8hJYSv3ksDJe",
        "outputId": "6191da4a-7798-493e-a57d-5f43fc53f2d9"
      },
      "execution_count": 10,
      "outputs": [
        {
          "output_type": "execute_result",
          "data": {
            "text/plain": [
              "36.484487890347154"
            ]
          },
          "metadata": {},
          "execution_count": 10
        }
      ]
    },
    {
      "cell_type": "code",
      "source": [
        ""
      ],
      "metadata": {
        "id": "9SAmjjO4sF2s"
      },
      "execution_count": null,
      "outputs": []
    }
  ]
}